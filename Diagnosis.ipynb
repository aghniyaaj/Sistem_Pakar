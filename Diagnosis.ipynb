{
  "nbformat": 4,
  "nbformat_minor": 0,
  "metadata": {
    "colab": {
      "provenance": [],
      "authorship_tag": "ABX9TyPC8OoHKlm0yyHCpNvNPGsJ",
      "include_colab_link": true
    },
    "kernelspec": {
      "name": "python3",
      "display_name": "Python 3"
    },
    "language_info": {
      "name": "python"
    }
  },
  "cells": [
    {
      "cell_type": "markdown",
      "metadata": {
        "id": "view-in-github",
        "colab_type": "text"
      },
      "source": [
        "<a href=\"https://colab.research.google.com/github/aghniyaaj/Sistem_Pakar/blob/main/Diagnosis.ipynb\" target=\"_parent\"><img src=\"https://colab.research.google.com/assets/colab-badge.svg\" alt=\"Open In Colab\"/></a>"
      ]
    },
    {
      "cell_type": "markdown",
      "source": [
        "Install"
      ],
      "metadata": {
        "id": "BQ4LkaEcw7Tj"
      }
    },
    {
      "cell_type": "code",
      "execution_count": 1,
      "metadata": {
        "colab": {
          "base_uri": "https://localhost:8080/"
        },
        "id": "1GZFAtJewuSn",
        "outputId": "6779a01f-dc38-4c71-e83f-896ddda8d74d"
      },
      "outputs": [
        {
          "output_type": "stream",
          "name": "stdout",
          "text": [
            "Collecting experta\n",
            "  Downloading experta-1.9.4-py3-none-any.whl.metadata (5.0 kB)\n",
            "Collecting frozendict==1.2 (from experta)\n",
            "  Downloading frozendict-1.2.tar.gz (2.6 kB)\n",
            "  Preparing metadata (setup.py) ... \u001b[?25l\u001b[?25hdone\n",
            "Collecting schema==0.6.7 (from experta)\n",
            "  Downloading schema-0.6.7-py2.py3-none-any.whl.metadata (14 kB)\n",
            "Downloading experta-1.9.4-py3-none-any.whl (35 kB)\n",
            "Downloading schema-0.6.7-py2.py3-none-any.whl (14 kB)\n",
            "Building wheels for collected packages: frozendict\n",
            "  Building wheel for frozendict (setup.py) ... \u001b[?25l\u001b[?25hdone\n",
            "  Created wheel for frozendict: filename=frozendict-1.2-py3-none-any.whl size=3149 sha256=28511aa02b1dcea3c6bc54c4917e1d98956b6a4c485fa35751feef28afb33dcc\n",
            "  Stored in directory: /root/.cache/pip/wheels/49/ac/f8/cb8120244e710bdb479c86198b03c7b08c3c2d3d2bf448fd6e\n",
            "Successfully built frozendict\n",
            "Installing collected packages: schema, frozendict, experta\n",
            "  Attempting uninstall: frozendict\n",
            "    Found existing installation: frozendict 2.4.6\n",
            "    Uninstalling frozendict-2.4.6:\n",
            "      Successfully uninstalled frozendict-2.4.6\n",
            "\u001b[31mERROR: pip's dependency resolver does not currently take into account all the packages that are installed. This behaviour is the source of the following dependency conflicts.\n",
            "yfinance 0.2.55 requires frozendict>=2.3.4, but you have frozendict 1.2 which is incompatible.\u001b[0m\u001b[31m\n",
            "\u001b[0mSuccessfully installed experta-1.9.4 frozendict-1.2 schema-0.6.7\n"
          ]
        }
      ],
      "source": [
        "!pip install experta"
      ]
    },
    {
      "cell_type": "code",
      "source": [
        "!pip install --upgrade frozendict"
      ],
      "metadata": {
        "colab": {
          "base_uri": "https://localhost:8080/"
        },
        "id": "aMlrdzUaxKro",
        "outputId": "bcb81313-bd97-4c15-a2b0-d4ad30fc25ad"
      },
      "execution_count": 2,
      "outputs": [
        {
          "output_type": "stream",
          "name": "stdout",
          "text": [
            "Requirement already satisfied: frozendict in /usr/local/lib/python3.11/dist-packages (1.2)\n",
            "Collecting frozendict\n",
            "  Downloading frozendict-2.4.6-py311-none-any.whl.metadata (23 kB)\n",
            "Downloading frozendict-2.4.6-py311-none-any.whl (16 kB)\n",
            "Installing collected packages: frozendict\n",
            "  Attempting uninstall: frozendict\n",
            "    Found existing installation: frozendict 1.2\n",
            "    Uninstalling frozendict-1.2:\n",
            "      Successfully uninstalled frozendict-1.2\n",
            "\u001b[31mERROR: pip's dependency resolver does not currently take into account all the packages that are installed. This behaviour is the source of the following dependency conflicts.\n",
            "experta 1.9.4 requires frozendict==1.2, but you have frozendict 2.4.6 which is incompatible.\u001b[0m\u001b[31m\n",
            "\u001b[0mSuccessfully installed frozendict-2.4.6\n"
          ]
        }
      ]
    },
    {
      "cell_type": "markdown",
      "source": [
        "Diagnosis Penyakit\n"
      ],
      "metadata": {
        "id": "oX04iD1CxeRH"
      }
    },
    {
      "cell_type": "code",
      "source": [
        "from experta import *\n",
        "\n",
        "class Diagnosis(KnowledgeEngine):\n",
        "  @Rule(Fact(cough=True) & Fact(fever=True) & Fact(fatigue=True))\n",
        "  def flu(self):\n",
        "    print(\"Diagnosis: You May have flu\")\n",
        "\n",
        "  @Rule(Fact(cough=True) & Fact(fever=True) & Fact(breathing_difficulty=True))\n",
        "  def pneumonia(self):\n",
        "    print(\"Diagnosis: You may have pneumonia\")\n",
        "\n",
        "  @Rule(Fact(sneezing=True) & Fact(runny_nose=True) & Fact(cough=False))\n",
        "  def cold(self):\n",
        "    perint(\"Diagnosis: You may have a common cold\")\n",
        "\n",
        "  @Rule(Fact(sore_throat=True) & Fact(fever=True))\n",
        "  def throat_infection(self):\n",
        "    print(\"Diagnosis: you may have throat infection\")\n",
        "\n",
        "  @Rule(Fact(cough=False) & Fact(fever=False) & Fact(fatigue=False))\n",
        "  def healthy(self):\n",
        "    print(\"Diagnosis: You seem to be healty\")\n",
        "\n",
        "  # Rule Penambahan 1: Asthma\n",
        "  @Rule(Fact(cough=True) & Fact(breathing_difficulty=True) & Fact(wheezing=True))\n",
        "  def asthma(self):\n",
        "    print(\"Diagnosis: You may have asthma\")\n",
        "\n",
        "  # Rule Penambahan 2: Allergy\n",
        "  @Rule(Fact(sneezing=True) & Fact(runny_nose=True) & Fact(itchy_eyes=True))\n",
        "  def allergy(self):\n",
        "    print(\"Diagnosis: You may have an allergy\")\n",
        "\n",
        "  # Rule Penambahan 3: Bronchitis (ganti dari COVID-19)\n",
        "  @Rule(Fact(cough=True) & Fact(fatigue=True) & Fact(chest_discomfort=True))\n",
        "  def bronchitis(self):\n",
        "    print(\"Diagnosis: You may have bronchitis\")\n",
        "\n",
        "  # Rule Penambahan 4: Sinusitis\n",
        "  @Rule(Fact(headache=True) & Fact(facial_pain=True) & Fact(runny_nose=True))\n",
        "  def sinusitis(self):\n",
        "    print(\"Diagnosis: You may have sinusitis\")\n",
        "\n",
        "def get_input():\n",
        "  \"\"\"Helper function to get user input as boolean (yes/no).\"\"\"\n",
        "  def ask_question(question):\n",
        "    return input(question + \"(yes/no): \").strip().lower() == \"yes\"\n",
        "\n",
        "  return {\n",
        "      \"cough\": ask_question(\"Do you have cough:\"),\n",
        "      \"fever\": ask_question(\"Do you have fever?\"),\n",
        "      \"fatigue\": ask_question(\"Do you have fatigued?\"),\n",
        "      \"breathing_difficulty\": ask_question(\"Do you have brathing difficulties?\"),\n",
        "      \"sneezing\": ask_question(\"Do you have sneezing?\"),\n",
        "      \"runny_nose\": ask_question(\"Do you have runny nose?\"),\n",
        "      \"sore_throat\": ask_question(\"Do you have sore throat?\"),\n",
        "      \"wheezing\": ask_question(\"Do you experience wheezing?\"),\n",
        "      \"itchy_eyes\": ask_question(\"Do you have itchy eyes?\"),\n",
        "      \"chest_discomfort\": ask_question(\"Do you feel discomfort in your chest?\"),\n",
        "      \"headache\": ask_question(\"Do you have a headache?\"),\n",
        "      \"facial_pain\": ask_question(\"Do you experience facial pain?\")\n",
        "  }\n",
        "\n",
        "# running the expert system\n",
        "if __name__ == \"__main__\":\n",
        "  symtoms = get_input()\n",
        "  engine = Diagnosis()\n",
        "  engine.reset() # reset the knowledge engine\n",
        "\n",
        "  for symtom, present in symtoms.items():\n",
        "    engine.declare(Fact(**{symtom: present})) # declare facts\n",
        "\n",
        "  engine.run() # run the interface engine\n"
      ],
      "metadata": {
        "colab": {
          "base_uri": "https://localhost:8080/"
        },
        "id": "wfKAHhT0xbCQ",
        "outputId": "52057996-fea4-418d-9c3b-9ec872b8fb46"
      },
      "execution_count": 4,
      "outputs": [
        {
          "output_type": "stream",
          "name": "stdout",
          "text": [
            "Do you have cough:(yes/no): yes\n",
            "Do you have fever?(yes/no): yes\n",
            "Do you have fatigued?(yes/no): yes\n",
            "Do you have brathing difficulties?(yes/no): no\n",
            "Do you have sneezing?(yes/no): no\n",
            "Do you have runny nose?(yes/no): no\n",
            "Do you have sore throat?(yes/no): no\n",
            "Do you experience wheezing?(yes/no): no\n",
            "Do you have itchy eyes?(yes/no): no\n",
            "Do you feel discomfort in your chest?(yes/no): yes\n",
            "Do you have a headache?(yes/no): no\n",
            "Do you experience facial pain?(yes/no): no\n",
            "Diagnosis: You may have bronchitis\n",
            "Diagnosis: You May have flu\n"
          ]
        }
      ]
    }
  ]
}